{
 "cells": [
  {
   "cell_type": "markdown",
   "id": "8550b089",
   "metadata": {},
   "source": [
    "## Homework\n",
    "\n",
    "> Note: sometimes your answer doesn't match one of \n",
    "> the options exactly. That's fine. \n",
    "> Select the option that's closest to your solution.\n",
    "\n",
    "\n",
    "In this homework, we will use the lead scoring dataset. Download it from [here](https://raw.githubusercontent.com/alexeygrigorev/datasets/master/course_lead_scoring.csv).\n",
    "\n",
    "\n",
    "In this dataset our desired target for classification task will be `converted` variable - has the client signed up to the platform or not. \n"
   ]
  },
  {
   "cell_type": "code",
   "execution_count": 1,
   "id": "62ebe667",
   "metadata": {},
   "outputs": [
    {
     "name": "stdout",
     "output_type": "stream",
     "text": [
      "--2025-10-24 20:34:18--  https://raw.githubusercontent.com/alexeygrigorev/datasets/master/course_lead_scoring.csv\n",
      "Resolving raw.githubusercontent.com (raw.githubusercontent.com)... 185.199.111.133, 185.199.108.133, 185.199.110.133, ...\n",
      "Connecting to raw.githubusercontent.com (raw.githubusercontent.com)|185.199.111.133|:443... connected.\n",
      "HTTP request sent, awaiting response... 200 OK\n",
      "Length: 80876 (79K) [text/plain]\n",
      "Saving to: ‘data.csv’\n",
      "\n",
      "data.csv            100%[===================>]  78.98K  --.-KB/s    in 0.006s  \n",
      "\n",
      "2025-10-24 20:34:18 (13.7 MB/s) - ‘data.csv’ saved [80876/80876]\n",
      "\n"
     ]
    }
   ],
   "source": [
    "!wget \"https://raw.githubusercontent.com/alexeygrigorev/datasets/master/course_lead_scoring.csv\" -O data.csv"
   ]
  },
  {
   "cell_type": "code",
   "execution_count": 2,
   "id": "37afa5c6",
   "metadata": {},
   "outputs": [],
   "source": [
    "import pandas as pd\n",
    "import numpy as np\n",
    "from sklearn.model_selection import train_test_split\n",
    "from sklearn.metrics import roc_auc_score\n",
    "from sklearn.metrics import accuracy_score\n",
    "from sklearn.feature_extraction import DictVectorizer\n",
    "from sklearn.linear_model import LogisticRegression"
   ]
  },
  {
   "cell_type": "code",
   "execution_count": 3,
   "id": "4b1c5d62",
   "metadata": {},
   "outputs": [
    {
     "data": {
      "text/plain": [
       "(1462, 9)"
      ]
     },
     "execution_count": 3,
     "metadata": {},
     "output_type": "execute_result"
    }
   ],
   "source": [
    "df = pd.read_csv('data.csv')\n",
    "df.shape"
   ]
  },
  {
   "cell_type": "code",
   "execution_count": 4,
   "id": "b4551424",
   "metadata": {},
   "outputs": [
    {
     "data": {
      "text/plain": [
       "Index(['lead_source', 'industry', 'number_of_courses_viewed', 'annual_income',\n",
       "       'employment_status', 'location', 'interaction_count', 'lead_score',\n",
       "       'converted'],\n",
       "      dtype='object')"
      ]
     },
     "execution_count": 4,
     "metadata": {},
     "output_type": "execute_result"
    }
   ],
   "source": [
    "df.columns"
   ]
  },
  {
   "cell_type": "markdown",
   "id": "53452ce9",
   "metadata": {},
   "source": [
    "### Data preparation\n",
    "\n",
    "* Check if the missing values are presented in the features.\n",
    "* If there are missing values:\n",
    "    * For caterogiral features, replace them with 'NA'\n",
    "    * For numerical features, replace with with 0.0 \n",
    "\n",
    "\n",
    "Split the data into 3 parts: train/validation/test with 60%/20%/20% distribution. Use `train_test_split` function for that with `random_state=1`\n",
    "\n"
   ]
  },
  {
   "cell_type": "code",
   "execution_count": 5,
   "id": "cd67a9e8",
   "metadata": {},
   "outputs": [
    {
     "data": {
      "text/plain": [
       "lead_source                  object\n",
       "industry                     object\n",
       "number_of_courses_viewed      int64\n",
       "annual_income               float64\n",
       "employment_status            object\n",
       "location                     object\n",
       "interaction_count             int64\n",
       "lead_score                  float64\n",
       "converted                     int64\n",
       "dtype: object"
      ]
     },
     "execution_count": 5,
     "metadata": {},
     "output_type": "execute_result"
    }
   ],
   "source": [
    "df.dtypes"
   ]
  },
  {
   "cell_type": "code",
   "execution_count": 6,
   "id": "69ab1f4f",
   "metadata": {},
   "outputs": [
    {
     "data": {
      "text/plain": [
       "lead_source                 128\n",
       "industry                    134\n",
       "number_of_courses_viewed      0\n",
       "annual_income               181\n",
       "employment_status           100\n",
       "location                     63\n",
       "interaction_count             0\n",
       "lead_score                    0\n",
       "converted                     0\n",
       "dtype: int64"
      ]
     },
     "execution_count": 6,
     "metadata": {},
     "output_type": "execute_result"
    }
   ],
   "source": [
    "df.isnull().sum()"
   ]
  },
  {
   "cell_type": "code",
   "execution_count": 7,
   "id": "a55b80cd",
   "metadata": {},
   "outputs": [],
   "source": [
    "categorical = df.select_dtypes(include=['object']).columns.tolist()\n",
    "numerical = df.select_dtypes(include=['int64', 'float64']).columns.tolist() \n",
    "numerical.remove('converted')"
   ]
  },
  {
   "cell_type": "code",
   "execution_count": 8,
   "id": "83113a11",
   "metadata": {},
   "outputs": [
    {
     "data": {
      "text/plain": [
       "(['lead_source', 'industry', 'employment_status', 'location'],\n",
       " ['number_of_courses_viewed',\n",
       "  'annual_income',\n",
       "  'interaction_count',\n",
       "  'lead_score'])"
      ]
     },
     "execution_count": 8,
     "metadata": {},
     "output_type": "execute_result"
    }
   ],
   "source": [
    "categorical, numerical"
   ]
  },
  {
   "cell_type": "code",
   "execution_count": 9,
   "id": "a7ea46cb",
   "metadata": {},
   "outputs": [],
   "source": [
    "df[numerical] = df[numerical].fillna(0.0)\n",
    "df[categorical] = df[categorical].fillna('NA')"
   ]
  },
  {
   "cell_type": "code",
   "execution_count": 10,
   "id": "211e3d5d",
   "metadata": {},
   "outputs": [
    {
     "data": {
      "text/plain": [
       "lead_source                 0\n",
       "industry                    0\n",
       "number_of_courses_viewed    0\n",
       "annual_income               0\n",
       "employment_status           0\n",
       "location                    0\n",
       "interaction_count           0\n",
       "lead_score                  0\n",
       "converted                   0\n",
       "dtype: int64"
      ]
     },
     "execution_count": 10,
     "metadata": {},
     "output_type": "execute_result"
    }
   ],
   "source": [
    "df.isnull().sum()"
   ]
  },
  {
   "cell_type": "code",
   "execution_count": 11,
   "id": "beb5a61e",
   "metadata": {},
   "outputs": [
    {
     "data": {
      "text/plain": [
       "(876, 293, 293)"
      ]
     },
     "execution_count": 11,
     "metadata": {},
     "output_type": "execute_result"
    }
   ],
   "source": [
    "df_full_train, df_test = train_test_split(df, test_size=0.2, random_state=1)\n",
    "df_train, df_val = train_test_split(df_full_train, test_size=0.25, random_state=1)\n",
    "df_train = df_train.reset_index(drop=True)\n",
    "df_val = df_val.reset_index(drop=True)\n",
    "df_test = df_test.reset_index(drop=True)\n",
    "len(df_train), len(df_val), len(df_test)"
   ]
  },
  {
   "cell_type": "markdown",
   "id": "d89196c9",
   "metadata": {},
   "source": [
    "### Question 1: ROC AUC feature importance\n",
    "\n",
    "ROC AUC could also be used to evaluate feature importance of numerical variables. \n",
    "\n",
    "Let's do that\n",
    "\n",
    "* For each numerical variable, use it as score (aka prediction) and compute the AUC with the `y` variable as ground truth.\n",
    "* Use the training dataset for that\n",
    "\n",
    "\n",
    "If your AUC is < 0.5, invert this variable by putting \"-\" in front\n",
    "\n",
    "(e.g. `-df_train['balance']`)\n",
    "\n",
    "AUC can go below 0.5 if the variable is negatively correlated with the target variable. You can change the direction of the correlation by negating this variable - then negative correlation becomes positive.\n",
    "\n",
    "Which numerical variable (among the following 4) has the highest AUC?\n",
    "\n",
    "- `lead_score`\n",
    "- `number_of_courses_viewed`\n",
    "- `interaction_count`\n",
    "- `annual_income`\n"
   ]
  },
  {
   "cell_type": "code",
   "execution_count": 12,
   "id": "b6c39c26",
   "metadata": {},
   "outputs": [
    {
     "name": "stdout",
     "output_type": "stream",
     "text": [
      "number_of_courses_viewed: 0.761\n",
      "annual_income: 0.543\n",
      "interaction_count: 0.722\n",
      "lead_score: 0.615\n"
     ]
    }
   ],
   "source": [
    "for label in (numerical):\n",
    "    score = roc_auc_score(df['converted'],df[label])\n",
    "    if (score < 0.5):\n",
    "        print (\"recalculating for -\", label)\n",
    "        score = roc_auc_score(-df['converted'],df[label])\n",
    "    print(f'{label}: {score:.3f}')"
   ]
  },
  {
   "cell_type": "markdown",
   "id": "75dc485c",
   "metadata": {},
   "source": [
    "Answer 1: number_of_courses_viewed has the highest AUC with 0.761"
   ]
  },
  {
   "cell_type": "markdown",
   "id": "fa562167",
   "metadata": {},
   "source": [
    "### Question 2: Training the model\n",
    "\n",
    "Apply one-hot-encoding using `DictVectorizer` and train the logistic regression with these parameters:\n",
    "\n",
    "```python\n",
    "LogisticRegression(solver='liblinear', C=1.0, max_iter=1000)\n",
    "```\n",
    "\n",
    "What's the AUC of this model on the validation dataset? (round to 3 digits)\n",
    "\n",
    "- 0.32\n",
    "- 0.52\n",
    "- 0.72\n",
    "- 0.92"
   ]
  },
  {
   "cell_type": "code",
   "execution_count": 13,
   "id": "130e38af",
   "metadata": {},
   "outputs": [
    {
     "name": "stdout",
     "output_type": "stream",
     "text": [
      "0.648\n",
      "[ True  True  True  True  True  True False  True  True False  True  True\n",
      " False False  True  True  True  True False  True  True  True False  True\n",
      "  True  True  True  True  True  True] [1 1 1 0 1 1 0 1 1 0 1 0 0 0 0 1 1 1 0 1 1 1 0 1 1 1 0 1 1 1]\n",
      "0.5836177474402731 0.8361774744027304\n"
     ]
    }
   ],
   "source": [
    "dv = DictVectorizer(sparse=False)\n",
    "\n",
    "def train_model(df_train, dv, C=1.0):\n",
    "    train_dicts = df_train[categorical + numerical].to_dict(orient='records')\n",
    "    X_train = dv.fit_transform(train_dicts)\n",
    "    y_train = df_train['converted'].values\n",
    "    model = LogisticRegression(solver='liblinear', C=C, max_iter=1000)\n",
    "    model.fit(X_train, y_train)\n",
    "    return model\n",
    "\n",
    "model = train_model(df_train, dv)\n",
    "\n",
    "def predict_val(df, dv, model):\n",
    "    dicts = df[categorical + numerical].to_dict(orient='records')\n",
    "    X = dv.transform(dicts)\n",
    "    y = df['converted'].values\n",
    "    y_pred = model.predict_proba(X)[:, 1]\n",
    "    return y, y_pred\n",
    "\n",
    "y_val, y_val_pred = predict_val(df_val, dv, model)\n",
    "\n",
    "print(round(roc_auc_score(y_val, (y_val_pred>=0.5)) , 3))\n",
    "\n",
    "\n",
    "print (y_val_pred[::10]>=0.5, y_val[::10])\n",
    "print(y_val.mean(), (y_val_pred>=0.5).mean())"
   ]
  },
  {
   "cell_type": "markdown",
   "id": "8a71a7dd",
   "metadata": {},
   "source": [
    "### Question 3: Precision and Recall\n",
    "\n",
    "Now let's compute precision and recall for our model.\n",
    "\n",
    "* Evaluate the model on all thresholds from 0.0 to 1.0 with step 0.01\n",
    "* For each threshold, compute precision and recall\n",
    "* Plot them\n",
    "\n",
    "At which threshold precision and recall curves intersect?\n",
    "\n",
    "* 0.145\n",
    "* 0.345\n",
    "* 0.545\n",
    "* 0.745"
   ]
  },
  {
   "cell_type": "code",
   "execution_count": 14,
   "id": "4531577f",
   "metadata": {},
   "outputs": [],
   "source": [
    "def get_precision_recall(y, y_pred, t=0.5):\n",
    "    actual_positive = (y == 1)\n",
    "    actual_negative = (y == 0)\n",
    "\n",
    "    predict_positive = (y_pred >= t)\n",
    "    predict_negative = (y_pred < t)\n",
    "\n",
    "    tp = (predict_positive & actual_positive).sum()\n",
    "    tn = (predict_negative & actual_negative).sum()\n",
    "\n",
    "    fp = (predict_positive & actual_negative).sum()\n",
    "    fn = (predict_negative & actual_positive).sum()\n",
    "\n",
    "    precision = tp / (tp + fp)\n",
    "    recall = tp / (tp + fn)\n",
    "    print (f'Threshold: {t:.2f}  Precision: {precision:.3f}  Recall: {recall:.3f}, TP: {tp} FP: {fp} TN: {tn} FN: {fn}')\n",
    "    return precision, recall\n"
   ]
  },
  {
   "cell_type": "code",
   "execution_count": 25,
   "id": "3e636cf8",
   "metadata": {},
   "outputs": [
    {
     "name": "stdout",
     "output_type": "stream",
     "text": [
      "Threshold: 0.00  Precision: 0.584  Recall: 1.000, TP: 171 FP: 122 TN: 0 FN: 0\n",
      "Threshold: 0.01  Precision: 0.584  Recall: 1.000, TP: 171 FP: 122 TN: 0 FN: 0\n",
      "Threshold: 0.02  Precision: 0.584  Recall: 1.000, TP: 171 FP: 122 TN: 0 FN: 0\n",
      "Threshold: 0.03  Precision: 0.584  Recall: 1.000, TP: 171 FP: 122 TN: 0 FN: 0\n",
      "Threshold: 0.04  Precision: 0.584  Recall: 1.000, TP: 171 FP: 122 TN: 0 FN: 0\n",
      "Threshold: 0.05  Precision: 0.584  Recall: 1.000, TP: 171 FP: 122 TN: 0 FN: 0\n",
      "Threshold: 0.06  Precision: 0.584  Recall: 1.000, TP: 171 FP: 122 TN: 0 FN: 0\n",
      "Threshold: 0.07  Precision: 0.584  Recall: 1.000, TP: 171 FP: 122 TN: 0 FN: 0\n",
      "Threshold: 0.08  Precision: 0.584  Recall: 1.000, TP: 171 FP: 122 TN: 0 FN: 0\n",
      "Threshold: 0.09  Precision: 0.584  Recall: 1.000, TP: 171 FP: 122 TN: 0 FN: 0\n",
      "Threshold: 0.10  Precision: 0.584  Recall: 1.000, TP: 171 FP: 122 TN: 0 FN: 0\n",
      "Threshold: 0.11  Precision: 0.584  Recall: 1.000, TP: 171 FP: 122 TN: 0 FN: 0\n",
      "Threshold: 0.12  Precision: 0.584  Recall: 1.000, TP: 171 FP: 122 TN: 0 FN: 0\n",
      "Threshold: 0.13  Precision: 0.584  Recall: 1.000, TP: 171 FP: 122 TN: 0 FN: 0\n",
      "Threshold: 0.14  Precision: 0.584  Recall: 1.000, TP: 171 FP: 122 TN: 0 FN: 0\n",
      "Threshold: 0.15  Precision: 0.584  Recall: 1.000, TP: 171 FP: 122 TN: 0 FN: 0\n",
      "Threshold: 0.16  Precision: 0.584  Recall: 1.000, TP: 171 FP: 122 TN: 0 FN: 0\n",
      "Threshold: 0.17  Precision: 0.584  Recall: 1.000, TP: 171 FP: 122 TN: 0 FN: 0\n",
      "Threshold: 0.18  Precision: 0.584  Recall: 1.000, TP: 171 FP: 122 TN: 0 FN: 0\n",
      "Threshold: 0.19  Precision: 0.584  Recall: 1.000, TP: 171 FP: 122 TN: 0 FN: 0\n",
      "Threshold: 0.20  Precision: 0.584  Recall: 1.000, TP: 171 FP: 122 TN: 0 FN: 0\n",
      "Threshold: 0.21  Precision: 0.584  Recall: 1.000, TP: 171 FP: 122 TN: 0 FN: 0\n",
      "Threshold: 0.22  Precision: 0.584  Recall: 1.000, TP: 171 FP: 122 TN: 0 FN: 0\n",
      "Threshold: 0.23  Precision: 0.584  Recall: 1.000, TP: 171 FP: 122 TN: 0 FN: 0\n",
      "Threshold: 0.24  Precision: 0.584  Recall: 1.000, TP: 171 FP: 122 TN: 0 FN: 0\n",
      "Threshold: 0.25  Precision: 0.584  Recall: 1.000, TP: 171 FP: 122 TN: 0 FN: 0\n",
      "Threshold: 0.26  Precision: 0.584  Recall: 1.000, TP: 171 FP: 122 TN: 0 FN: 0\n",
      "Threshold: 0.27  Precision: 0.586  Recall: 1.000, TP: 171 FP: 121 TN: 1 FN: 0\n",
      "Threshold: 0.28  Precision: 0.588  Recall: 1.000, TP: 171 FP: 120 TN: 2 FN: 0\n",
      "Threshold: 0.29  Precision: 0.590  Recall: 1.000, TP: 171 FP: 119 TN: 3 FN: 0\n",
      "Threshold: 0.30  Precision: 0.590  Recall: 1.000, TP: 171 FP: 119 TN: 3 FN: 0\n",
      "Threshold: 0.31  Precision: 0.590  Recall: 1.000, TP: 171 FP: 119 TN: 3 FN: 0\n",
      "Threshold: 0.32  Precision: 0.592  Recall: 1.000, TP: 171 FP: 118 TN: 4 FN: 0\n",
      "Threshold: 0.33  Precision: 0.592  Recall: 1.000, TP: 171 FP: 118 TN: 4 FN: 0\n",
      "Threshold: 0.34  Precision: 0.594  Recall: 1.000, TP: 171 FP: 117 TN: 5 FN: 0\n",
      "Threshold: 0.35  Precision: 0.594  Recall: 1.000, TP: 171 FP: 117 TN: 5 FN: 0\n",
      "Threshold: 0.36  Precision: 0.598  Recall: 1.000, TP: 171 FP: 115 TN: 7 FN: 0\n",
      "Threshold: 0.37  Precision: 0.598  Recall: 1.000, TP: 171 FP: 115 TN: 7 FN: 0\n",
      "Threshold: 0.38  Precision: 0.602  Recall: 1.000, TP: 171 FP: 113 TN: 9 FN: 0\n",
      "Threshold: 0.39  Precision: 0.611  Recall: 1.000, TP: 171 FP: 109 TN: 13 FN: 0\n",
      "Threshold: 0.40  Precision: 0.620  Recall: 1.000, TP: 171 FP: 105 TN: 17 FN: 0\n",
      "Threshold: 0.41  Precision: 0.620  Recall: 0.994, TP: 170 FP: 104 TN: 18 FN: 1\n",
      "Threshold: 0.42  Precision: 0.632  Recall: 0.994, TP: 170 FP: 99 TN: 23 FN: 1\n",
      "Threshold: 0.43  Precision: 0.634  Recall: 0.994, TP: 170 FP: 98 TN: 24 FN: 1\n",
      "Threshold: 0.44  Precision: 0.644  Recall: 0.994, TP: 170 FP: 94 TN: 28 FN: 1\n",
      "Threshold: 0.45  Precision: 0.648  Recall: 0.988, TP: 169 FP: 92 TN: 30 FN: 2\n",
      "Threshold: 0.46  Precision: 0.653  Recall: 0.988, TP: 169 FP: 90 TN: 32 FN: 2\n",
      "Threshold: 0.47  Precision: 0.656  Recall: 0.982, TP: 168 FP: 88 TN: 34 FN: 3\n",
      "Threshold: 0.48  Precision: 0.667  Recall: 0.971, TP: 166 FP: 83 TN: 39 FN: 5\n",
      "Threshold: 0.49  Precision: 0.665  Recall: 0.965, TP: 165 FP: 83 TN: 39 FN: 6\n",
      "Threshold: 0.50  Precision: 0.669  Recall: 0.959, TP: 164 FP: 81 TN: 41 FN: 7\n",
      "Threshold: 0.51  Precision: 0.676  Recall: 0.953, TP: 163 FP: 78 TN: 44 FN: 8\n",
      "Threshold: 0.52  Precision: 0.688  Recall: 0.942, TP: 161 FP: 73 TN: 49 FN: 10\n",
      "Threshold: 0.53  Precision: 0.700  Recall: 0.942, TP: 161 FP: 69 TN: 53 FN: 10\n",
      "Threshold: 0.54  Precision: 0.708  Recall: 0.936, TP: 160 FP: 66 TN: 56 FN: 11\n",
      "Threshold: 0.55  Precision: 0.719  Recall: 0.930, TP: 159 FP: 62 TN: 60 FN: 12\n",
      "Threshold: 0.56  Precision: 0.724  Recall: 0.918, TP: 157 FP: 60 TN: 62 FN: 14\n",
      "Threshold: 0.57  Precision: 0.732  Recall: 0.912, TP: 156 FP: 57 TN: 65 FN: 15\n",
      "Threshold: 0.58  Precision: 0.733  Recall: 0.901, TP: 154 FP: 56 TN: 66 FN: 17\n",
      "Threshold: 0.59  Precision: 0.741  Recall: 0.889, TP: 152 FP: 53 TN: 69 FN: 19\n",
      "Threshold: 0.60  Precision: 0.739  Recall: 0.877, TP: 150 FP: 53 TN: 69 FN: 21\n",
      "Threshold: 0.61  Precision: 0.747  Recall: 0.865, TP: 148 FP: 50 TN: 72 FN: 23\n",
      "Threshold: 0.62  Precision: 0.761  Recall: 0.836, TP: 143 FP: 45 TN: 77 FN: 28\n",
      "Threshold: 0.63  Precision: 0.764  Recall: 0.813, TP: 139 FP: 43 TN: 79 FN: 32\n",
      "Threshold: 0.64  Precision: 0.779  Recall: 0.784, TP: 134 FP: 38 TN: 84 FN: 37\n",
      "Threshold: 0.65  Precision: 0.778  Recall: 0.760, TP: 130 FP: 37 TN: 85 FN: 41\n",
      "Threshold: 0.66  Precision: 0.780  Recall: 0.725, TP: 124 FP: 35 TN: 87 FN: 47\n",
      "Threshold: 0.67  Precision: 0.797  Recall: 0.713, TP: 122 FP: 31 TN: 91 FN: 49\n",
      "Threshold: 0.68  Precision: 0.806  Recall: 0.678, TP: 116 FP: 28 TN: 94 FN: 55\n",
      "Threshold: 0.69  Precision: 0.804  Recall: 0.649, TP: 111 FP: 27 TN: 95 FN: 60\n",
      "Threshold: 0.70  Precision: 0.809  Recall: 0.620, TP: 106 FP: 25 TN: 97 FN: 65\n",
      "Threshold: 0.71  Precision: 0.819  Recall: 0.608, TP: 104 FP: 23 TN: 99 FN: 67\n",
      "Threshold: 0.72  Precision: 0.822  Recall: 0.567, TP: 97 FP: 21 TN: 101 FN: 74\n",
      "Threshold: 0.73  Precision: 0.826  Recall: 0.526, TP: 90 FP: 19 TN: 103 FN: 81\n",
      "Threshold: 0.74  Precision: 0.846  Recall: 0.515, TP: 88 FP: 16 TN: 106 FN: 83\n",
      "Threshold: 0.75  Precision: 0.850  Recall: 0.497, TP: 85 FP: 15 TN: 107 FN: 86\n",
      "Threshold: 0.76  Precision: 0.872  Recall: 0.480, TP: 82 FP: 12 TN: 110 FN: 89\n",
      "Threshold: 0.77  Precision: 0.876  Recall: 0.456, TP: 78 FP: 11 TN: 111 FN: 93\n",
      "Threshold: 0.78  Precision: 0.900  Recall: 0.421, TP: 72 FP: 8 TN: 114 FN: 99\n",
      "Threshold: 0.79  Precision: 0.918  Recall: 0.392, TP: 67 FP: 6 TN: 116 FN: 104\n",
      "Threshold: 0.80  Precision: 0.914  Recall: 0.374, TP: 64 FP: 6 TN: 116 FN: 107\n",
      "Threshold: 0.81  Precision: 0.913  Recall: 0.368, TP: 63 FP: 6 TN: 116 FN: 108\n",
      "Threshold: 0.82  Precision: 0.937  Recall: 0.345, TP: 59 FP: 4 TN: 118 FN: 112\n",
      "Threshold: 0.83  Precision: 0.930  Recall: 0.310, TP: 53 FP: 4 TN: 118 FN: 118\n",
      "Threshold: 0.84  Precision: 0.929  Recall: 0.304, TP: 52 FP: 4 TN: 118 FN: 119\n",
      "Threshold: 0.85  Precision: 0.958  Recall: 0.269, TP: 46 FP: 2 TN: 120 FN: 125\n",
      "Threshold: 0.86  Precision: 0.953  Recall: 0.240, TP: 41 FP: 2 TN: 120 FN: 130\n",
      "Threshold: 0.87  Precision: 0.944  Recall: 0.199, TP: 34 FP: 2 TN: 120 FN: 137\n",
      "Threshold: 0.88  Precision: 0.939  Recall: 0.181, TP: 31 FP: 2 TN: 120 FN: 140\n",
      "Threshold: 0.89  Precision: 0.964  Recall: 0.158, TP: 27 FP: 1 TN: 121 FN: 144\n",
      "Threshold: 0.90  Precision: 0.960  Recall: 0.140, TP: 24 FP: 1 TN: 121 FN: 147\n",
      "Threshold: 0.91  Precision: 0.947  Recall: 0.105, TP: 18 FP: 1 TN: 121 FN: 153\n",
      "Threshold: 0.92  Precision: 0.917  Recall: 0.064, TP: 11 FP: 1 TN: 121 FN: 160\n",
      "Threshold: 0.93  Precision: 1.000  Recall: 0.041, TP: 7 FP: 0 TN: 122 FN: 164\n",
      "Threshold: 0.94  Precision: 1.000  Recall: 0.041, TP: 7 FP: 0 TN: 122 FN: 164\n",
      "Threshold: 0.95  Precision: 1.000  Recall: 0.029, TP: 5 FP: 0 TN: 122 FN: 166\n",
      "Threshold: 0.96  Precision: 1.000  Recall: 0.018, TP: 3 FP: 0 TN: 122 FN: 168\n",
      "Threshold: 0.97  Precision: 1.000  Recall: 0.006, TP: 1 FP: 0 TN: 122 FN: 170\n",
      "Threshold: 0.98  Precision: nan  Recall: 0.000, TP: 0 FP: 0 TN: 122 FN: 171\n",
      "Threshold: 0.99  Precision: nan  Recall: 0.000, TP: 0 FP: 0 TN: 122 FN: 171\n",
      "[(np.float64(0.0), np.float64(0.5836177474402731), np.float64(1.0)), (np.float64(0.1), np.float64(0.5836177474402731), np.float64(1.0)), (np.float64(0.2), np.float64(0.5836177474402731), np.float64(1.0)), (np.float64(0.3), np.float64(0.5896551724137931), np.float64(1.0)), (np.float64(0.4), np.float64(0.6195652173913043), np.float64(1.0)), (np.float64(0.5), np.float64(0.6693877551020408), np.float64(0.9590643274853801)), (np.float64(0.6), np.float64(0.7389162561576355), np.float64(0.8771929824561403)), (np.float64(0.7000000000000001), np.float64(0.8091603053435115), np.float64(0.6198830409356725)), (np.float64(0.8), np.float64(0.9142857142857143), np.float64(0.3742690058479532)), (np.float64(0.9), np.float64(0.96), np.float64(0.14035087719298245))]\n"
     ]
    },
    {
     "name": "stderr",
     "output_type": "stream",
     "text": [
      "/tmp/ipykernel_30094/3978718992.py:14: RuntimeWarning: invalid value encountered in scalar divide\n",
      "  precision = tp / (tp + fp)\n"
     ]
    }
   ],
   "source": [
    "thresholds = np.arange(0.0, 1.0, 0.01)\n",
    "scores = []\n",
    "for t in thresholds:\n",
    "    precision, recall = get_precision_recall(y_val, y_val_pred, t)\n",
    "    scores.append((t, precision, recall))\n",
    "\n",
    "print (scores[::10])"
   ]
  },
  {
   "cell_type": "code",
   "execution_count": 26,
   "id": "7cec2bcc",
   "metadata": {},
   "outputs": [
    {
     "data": {
      "image/png": "[encoded data removed]",
      "text/plain": [
       "<Figure size 640x480 with 1 Axes>"
      ]
     },
     "metadata": {},
     "output_type": "display_data"
    }
   ],
   "source": [
    "import matplotlib.pyplot as plt\n",
    "plt.plot([x[0] for x in scores], [x[1] for x in scores], label='Precision')\n",
    "plt.plot([x[0] for x in scores], [x[2] for x in scores], label='Recall')\n",
    "plt.xlabel('Threshold')\n",
    "plt.legend()\n",
    "plt.show()"
   ]
  },
  {
   "cell_type": "markdown",
   "id": "9dda263b",
   "metadata": {},
   "source": [
    "Answer 3: Precision and Recall seem to intersect around t=0.645 between .64 and .65\n",
    "\n",
    "Threshold: 0.63  Precision: 0.765  Recall: 0.819, TP: 140 FP: 43 TN: 79 FN: 31 \n",
    "\n",
    "Threshold: 0.64  Precision: 0.770  Recall: 0.784, TP: 134 FP: 40 TN: 82 FN: 37\n",
    "\n",
    "Threshold: 0.65  Precision: 0.778  Recall: 0.760, TP: 130 FP: 37 TN: 85 FN: 41\n",
    "\n",
    "Threshold: 0.66  Precision: 0.783  Recall: 0.737, TP: 126 FP: 35 TN: 87 FN: 45"
   ]
  },
  {
   "cell_type": "markdown",
   "id": "55b2bb4b",
   "metadata": {},
   "source": [
    "### Question 4: F1 score\n",
    "\n",
    "Precision and recall are conflicting - when one grows, the other goes down. That's why they are often combined into the F1 score - a metrics that takes into account both\n",
    "\n",
    "This is the formula for computing F1:\n",
    "\n",
    "$$F_1 = 2 \\cdot \\cfrac{P \\cdot R}{P + R}$$\n",
    "\n",
    "Where $P$ is precision and $R$ is recall.\n",
    "\n",
    "Let's compute F1 for all thresholds from 0.0 to 1.0 with increment 0.01\n",
    "\n",
    "At which threshold F1 is maximal?\n",
    "\n",
    "- 0.14\n",
    "- 0.34\n",
    "- 0.54\n",
    "- 0.74"
   ]
  },
  {
   "cell_type": "code",
   "execution_count": 27,
   "id": "fcb90b2e",
   "metadata": {},
   "outputs": [
    {
     "name": "stdout",
     "output_type": "stream",
     "text": [
      "0.0 0.737\n",
      "0.01 0.737\n",
      "0.02 0.737\n",
      "0.03 0.737\n",
      "0.04 0.737\n",
      "0.05 0.737\n",
      "0.06 0.737\n",
      "0.07 0.737\n",
      "0.08 0.737\n",
      "0.09 0.737\n",
      "0.1 0.737\n",
      "0.11 0.737\n",
      "0.12 0.737\n",
      "0.13 0.737\n",
      "0.14 0.737\n",
      "0.15 0.737\n",
      "0.16 0.737\n",
      "0.17 0.737\n",
      "0.18 0.737\n",
      "0.19 0.737\n",
      "0.2 0.737\n",
      "0.21 0.737\n",
      "0.22 0.737\n",
      "0.23 0.737\n",
      "0.24 0.737\n",
      "0.25 0.737\n",
      "0.26 0.737\n",
      "0.27 0.739\n",
      "0.28 0.74\n",
      "0.29 0.742\n",
      "0.3 0.742\n",
      "0.31 0.742\n",
      "0.32 0.743\n",
      "0.33 0.743\n",
      "0.34 0.745\n",
      "0.35000000000000003 0.745\n",
      "0.36 0.748\n",
      "0.37 0.748\n",
      "0.38 0.752\n",
      "0.39 0.758\n",
      "0.4 0.765\n",
      "0.41000000000000003 0.764\n",
      "0.42 0.773\n",
      "0.43 0.774\n",
      "0.44 0.782\n",
      "0.45 0.782\n",
      "0.46 0.786\n",
      "0.47000000000000003 0.787\n",
      "0.48 0.79\n",
      "0.49 0.788\n",
      "0.5 0.788\n",
      "0.51 0.791\n",
      "0.52 0.795\n",
      "0.53 0.803\n",
      "0.54 0.806\n",
      "0.55 0.811\n",
      "0.56 0.809\n",
      "0.5700000000000001 0.812\n",
      "0.58 0.808\n",
      "0.59 0.809\n",
      "0.6 0.802\n",
      "0.61 0.802\n",
      "0.62 0.797\n",
      "0.63 0.788\n",
      "0.64 0.781\n",
      "0.65 0.769\n",
      "0.66 0.752\n",
      "0.67 0.753\n",
      "0.68 0.737\n",
      "0.6900000000000001 0.718\n",
      "0.7000000000000001 0.702\n",
      "0.71 0.698\n",
      "0.72 0.671\n",
      "0.73 0.643\n",
      "0.74 0.64\n",
      "0.75 0.627\n",
      "0.76 0.619\n",
      "0.77 0.6\n",
      "0.78 0.574\n",
      "0.79 0.549\n",
      "0.8 0.531\n",
      "0.81 0.525\n",
      "0.8200000000000001 0.504\n",
      "0.8300000000000001 0.465\n",
      "0.84 0.458\n",
      "0.85 0.42\n",
      "0.86 0.383\n",
      "0.87 0.329\n",
      "0.88 0.304\n",
      "0.89 0.271\n",
      "0.9 0.245\n",
      "0.91 0.189\n",
      "0.92 0.12\n",
      "0.93 0.079\n",
      "0.9400000000000001 0.079\n",
      "0.9500000000000001 0.057\n",
      "0.96 0.034\n",
      "0.97 0.012\n",
      "0.98 nan\n",
      "0.99 nan\n"
     ]
    }
   ],
   "source": [
    "f1scores = []\n",
    "for score in scores:\n",
    "    f1score = 2 * (score[1] * score[2]) / (score[1] + score[2])\n",
    "    f1scores.append([score[0],f1score])\n",
    "    print (score[0], round(f1score, 3))\n",
    "\n"
   ]
  },
  {
   "cell_type": "code",
   "execution_count": 28,
   "id": "cb68c434",
   "metadata": {},
   "outputs": [
    {
     "data": {
      "image/png": "[encoded data removed]",
      "text/plain": [
       "<Figure size 640x480 with 1 Axes>"
      ]
     },
     "metadata": {},
     "output_type": "display_data"
    }
   ],
   "source": [
    "plt.plot([x[0] for x in f1scores], [x[1] for x in f1scores], label='F1 Score')\n",
    "plt.xlabel('Threshold')\n",
    "plt.legend()\n",
    "plt.show()"
   ]
  },
  {
   "cell_type": "markdown",
   "id": "2d2353c5",
   "metadata": {},
   "source": [
    "Amswer 4: 0.55"
   ]
  },
  {
   "cell_type": "markdown",
   "id": "09ed466d",
   "metadata": {},
   "source": [
    "### Question 5: 5-Fold CV\n",
    "\n",
    "\n",
    "Use the `KFold` class from Scikit-Learn to evaluate our model on 5 different folds:\n",
    "\n",
    "```\n",
    "KFold(n_splits=5, shuffle=True, random_state=1)\n",
    "```\n",
    "\n",
    "* Iterate over different folds of `df_full_train`\n",
    "* Split the data into train and validation\n",
    "* Train the model on train with these parameters: `LogisticRegression(solver='liblinear', C=1.0, max_iter=1000)`\n",
    "* Use AUC to evaluate the model on validation\n",
    "\n",
    "How large is standard deviation of the scores across different folds?\n",
    "\n",
    "- 0.0001\n",
    "- 0.006\n",
    "- 0.06\n",
    "- 0.36"
   ]
  },
  {
   "cell_type": "code",
   "execution_count": 30,
   "id": "3f57abab",
   "metadata": {},
   "outputs": [
    {
     "name": "stdout",
     "output_type": "stream",
     "text": [
      "Requirement already satisfied: tqdm in /usr/local/python/3.12.1/lib/python3.12/site-packages (4.67.1)\n",
      "\n",
      "\u001b[1m[\u001b[0m\u001b[34;49mnotice\u001b[0m\u001b[1;39;49m]\u001b[0m\u001b[39;49m A new release of pip is available: \u001b[0m\u001b[31;49m25.1.1\u001b[0m\u001b[39;49m -> \u001b[0m\u001b[32;49m25.2\u001b[0m\n",
      "\u001b[1m[\u001b[0m\u001b[34;49mnotice\u001b[0m\u001b[1;39;49m]\u001b[0m\u001b[39;49m To update, run: \u001b[0m\u001b[32;49mpython3 -m pip install --upgrade pip\u001b[0m\n"
     ]
    }
   ],
   "source": [
    "!pip install tqdm"
   ]
  },
  {
   "cell_type": "code",
   "execution_count": 31,
   "id": "7004bb04",
   "metadata": {},
   "outputs": [],
   "source": [
    "from sklearn.model_selection import KFold\n",
    "from tqdm.auto import tqdm"
   ]
  },
  {
   "cell_type": "code",
   "execution_count": 32,
   "id": "2a0b4ada",
   "metadata": {},
   "outputs": [
    {
     "data": {
      "application/vnd.jupyter.widget-view+json": {
       "model_id": "01c4c35eef0444e29f1f89a25658aa45",
       "version_major": 2,
       "version_minor": 0
      },
      "text/plain": [
       "  0%|          | 0/5 [00:00<?, ?it/s]"
      ]
     },
     "metadata": {},
     "output_type": "display_data"
    },
    {
     "name": "stdout",
     "output_type": "stream",
     "text": [
      "CV mean ROC AUC: 0.664, SD: 0.025\n"
     ]
    }
   ],
   "source": [
    "n_splits = 5\n",
    "aucs = []\n",
    "dv = DictVectorizer(sparse=False)\n",
    "\n",
    "def train_model_nfold(df, dv, n_splits=5, C=1.0, t=0.5):\n",
    "    kf = KFold(n_splits=n_splits, shuffle=True, random_state=1)\n",
    "\n",
    "    for train_index, val_index in tqdm(kf.split(df), total=n_splits):\n",
    "        df_train = df.iloc[train_index]\n",
    "        df_val = df.iloc[val_index]\n",
    "\n",
    "        model = train_model(df_train, dv, C=C)\n",
    "        y_val, y_val_pred = predict_val(df_val, dv, model)\n",
    "        auc = roc_auc_score(y_val, y_val_pred>=t)\n",
    "        aucs.append(auc)\n",
    "    return aucs\n",
    "\n",
    "aucs = train_model_nfold(df_full_train, dv, n_splits=n_splits)\n",
    "print(f'CV mean ROC AUC: {np.mean(aucs):.3f}, SD: {np.std(aucs):.3f}')\n"
   ]
  },
  {
   "cell_type": "markdown",
   "id": "e22a6a9b",
   "metadata": {},
   "source": [
    "Answer 5: 0.06? Value = 0.025. "
   ]
  },
  {
   "cell_type": "code",
   "execution_count": 33,
   "id": "49e7cdf9",
   "metadata": {},
   "outputs": [
    {
     "data": {
      "image/png": "[encoded data removed]",
      "text/plain": [
       "<Figure size 640x480 with 1 Axes>"
      ]
     },
     "metadata": {},
     "output_type": "display_data"
    }
   ],
   "source": [
    "plt.plot(aucs)\n",
    "plt.xlabel('Fold')\n",
    "plt.ylabel('ROC AUC')\n",
    "plt.title('Cross-Validation ROC AUC')\n",
    "plt.show()"
   ]
  },
  {
   "cell_type": "markdown",
   "id": "0ca41b67",
   "metadata": {},
   "source": [
    "### Question 6: Hyperparameter Tuning\n",
    "\n",
    "Now let's use 5-Fold cross-validation to find the best parameter `C`\n",
    "\n",
    "* Iterate over the following `C` values: `[0.000001, 0.001, 1]`\n",
    "* Initialize `KFold` with the same parameters as previously\n",
    "* Use these parameters for the model: `LogisticRegression(solver='liblinear', C=C, max_iter=1000)`\n",
    "* Compute the mean score as well as the std (round the mean and std to 3 decimal digits)\n",
    "\n",
    "Which `C` leads to the best mean score?\n",
    "\n",
    "- 0.000001\n",
    "- 0.001\n",
    "- 1\n",
    "\n",
    "If you have ties, select the score with the lowest std. If you still have ties, select the smallest `C`."
   ]
  },
  {
   "cell_type": "code",
   "execution_count": 37,
   "id": "c938ae85",
   "metadata": {},
   "outputs": [
    {
     "data": {
      "application/vnd.jupyter.widget-view+json": {
       "model_id": "0af99cfccc86494baf358242f902775b",
       "version_major": 2,
       "version_minor": 0
      },
      "text/plain": [
       "  0%|          | 0/5 [00:00<?, ?it/s]"
      ]
     },
     "metadata": {},
     "output_type": "display_data"
    },
    {
     "name": "stdout",
     "output_type": "stream",
     "text": [
      "C=1e-06: CV mean ROC AUC: 0.562, SD: 0.078\n"
     ]
    },
    {
     "data": {
      "application/vnd.jupyter.widget-view+json": {
       "model_id": "f377126fd3404dbb82f6ea68f31318cb",
       "version_major": 2,
       "version_minor": 0
      },
      "text/plain": [
       "  0%|          | 0/5 [00:00<?, ?it/s]"
      ]
     },
     "metadata": {},
     "output_type": "display_data"
    },
    {
     "name": "stdout",
     "output_type": "stream",
     "text": [
      "C=0.001: CV mean ROC AUC: 0.558, SD: 0.076\n"
     ]
    },
    {
     "data": {
      "application/vnd.jupyter.widget-view+json": {
       "model_id": "2a8d404db2ff4a64beb768d8c9bfbf85",
       "version_major": 2,
       "version_minor": 0
      },
      "text/plain": [
       "  0%|          | 0/5 [00:00<?, ?it/s]"
      ]
     },
     "metadata": {},
     "output_type": "display_data"
    },
    {
     "name": "stdout",
     "output_type": "stream",
     "text": [
      "C=1: CV mean ROC AUC: 0.566, SD: 0.079\n"
     ]
    }
   ],
   "source": [
    "C_values = [0.000001, 0.001, 1]\n",
    "mean_aucs = []\n",
    "n_splits = 5\n",
    "for C in C_values:\n",
    "    aucs = train_model_nfold(df_full_train, dv, n_splits=n_splits, C=C, t=0.5)\n",
    "    mean_auc = np.mean(aucs)\n",
    "    mean_aucs.append((C, mean_auc))\n",
    "    print(f'C={C}: CV mean ROC AUC: {mean_auc:.3f}, SD: {np.std(aucs):.3f}')\n"
   ]
  },
  {
   "cell_type": "markdown",
   "id": "5d74e64b",
   "metadata": {},
   "source": [
    "Answer: C=1 seems to have tbe best mean across multiple runs. "
   ]
  },
  {
   "cell_type": "markdown",
   "id": "1afb62d8",
   "metadata": {},
   "source": [
    "## Submit the results\n",
    "\n",
    "* Submit your results here: https://courses.datatalks.club/ml-zoomcamp-2025/homework/hw04\n",
    "* If your answer doesn't match options exactly, select the closest one"
   ]
  }
 ],
 "metadata": {
  "kernelspec": {
   "display_name": "Python 3",
   "language": "python",
   "name": "python3"
  },
  "language_info": {
   "codemirror_mode": {
    "name": "ipython",
    "version": 3
   },
   "file_extension": ".py",
   "mimetype": "text/x-python",
   "name": "python",
   "nbconvert_exporter": "python",
   "pygments_lexer": "ipython3",
   "version": "3.12.1"
  }
 },
 "nbformat": 4,
 "nbformat_minor": 5
}
